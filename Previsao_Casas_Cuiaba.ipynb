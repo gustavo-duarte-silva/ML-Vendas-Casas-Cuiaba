{
  "nbformat": 4,
  "nbformat_minor": 0,
  "metadata": {
    "colab": {
      "name": "Previsao_Casas_Cuiaba.ipynb",
      "provenance": [],
      "collapsed_sections": [],
      "mount_file_id": "1SzbA90QWR6l789Aofm8tiLiyB1xL0Za6",
      "authorship_tag": "ABX9TyPNrZSfvGFpEs+7iyfmvZmo",
      "include_colab_link": true
    },
    "kernelspec": {
      "name": "python3",
      "display_name": "Python 3"
    },
    "language_info": {
      "name": "python"
    }
  },
  "cells": [
    {
      "cell_type": "markdown",
      "metadata": {
        "id": "view-in-github",
        "colab_type": "text"
      },
      "source": [
        "<a href=\"https://colab.research.google.com/github/gustavo-duarte-silva/ML-Vendas-Casas-Cuiaba/blob/main/Previsao_Casas_Cuiaba.ipynb\" target=\"_parent\"><img src=\"https://colab.research.google.com/assets/colab-badge.svg\" alt=\"Open In Colab\"/></a>"
      ]
    },
    {
      "cell_type": "code",
      "source": [
        "from google.colab import drive\n",
        "drive.mount('/content/drive')"
      ],
      "metadata": {
        "colab": {
          "base_uri": "https://localhost:8080/"
        },
        "id": "3trYKdv3mhQH",
        "outputId": "c10a61c2-eb5a-4ad6-e4a9-aac464224efa"
      },
      "execution_count": null,
      "outputs": [
        {
          "output_type": "stream",
          "name": "stdout",
          "text": [
            "Drive already mounted at /content/drive; to attempt to forcibly remount, call drive.mount(\"/content/drive\", force_remount=True).\n"
          ]
        }
      ]
    },
    {
      "cell_type": "code",
      "execution_count": null,
      "metadata": {
        "id": "rQCv3Cp1-iT9"
      },
      "outputs": [],
      "source": [
        "#Importanto Bibliotecas Padrão para Analise de dados\n",
        "import numpy as np\n",
        "import pandas as pd\n",
        "import matplotlib.pyplot as plt\n",
        "import seaborn as sns"
      ]
    },
    {
      "cell_type": "code",
      "source": [
        "#dataset de vendas de casas no bairro Jardim Imperial - Cuiabá -MT\n",
        "df = pd.read_csv('/content/drive/MyDrive/CIENTISTA DE DADOS/PROJETOS/JARDIM CUIABA/Data.csv')"
      ],
      "metadata": {
        "id": "iHam15Hc-rU2"
      },
      "execution_count": null,
      "outputs": []
    },
    {
      "cell_type": "code",
      "source": [
        "#Dataset Obtido no Kaggle - Dataset Muito Pequeno para realizar o Train_Test_Split\n",
        "df.head()"
      ],
      "metadata": {
        "colab": {
          "base_uri": "https://localhost:8080/",
          "height": 206
        },
        "id": "ZPomTZYO-80m",
        "outputId": "12872dda-5b6c-4f71-d867-0d7fd1a514ea"
      },
      "execution_count": null,
      "outputs": [
        {
          "output_type": "execute_result",
          "data": {
            "text/html": [
              "\n",
              "  <div id=\"df-d781b6d8-c679-4410-825f-2964247cbd9a\">\n",
              "    <div class=\"colab-df-container\">\n",
              "      <div>\n",
              "<style scoped>\n",
              "    .dataframe tbody tr th:only-of-type {\n",
              "        vertical-align: middle;\n",
              "    }\n",
              "\n",
              "    .dataframe tbody tr th {\n",
              "        vertical-align: top;\n",
              "    }\n",
              "\n",
              "    .dataframe thead th {\n",
              "        text-align: right;\n",
              "    }\n",
              "</style>\n",
              "<table border=\"1\" class=\"dataframe\">\n",
              "  <thead>\n",
              "    <tr style=\"text-align: right;\">\n",
              "      <th></th>\n",
              "      <th>preco</th>\n",
              "      <th>endereco</th>\n",
              "      <th>tamanhom2</th>\n",
              "      <th>quartos</th>\n",
              "      <th>banheiros</th>\n",
              "      <th>suite</th>\n",
              "      <th>garagem</th>\n",
              "      <th>iptu</th>\n",
              "      <th>condominio</th>\n",
              "    </tr>\n",
              "  </thead>\n",
              "  <tbody>\n",
              "    <tr>\n",
              "      <th>0</th>\n",
              "      <td>1.380.000</td>\n",
              "      <td>Avenida das Palmeiras - Jardim Imperial, Cuiab...</td>\n",
              "      <td>321</td>\n",
              "      <td>3</td>\n",
              "      <td>3.0</td>\n",
              "      <td>3.0</td>\n",
              "      <td>4</td>\n",
              "      <td>550.0</td>\n",
              "      <td>550.0</td>\n",
              "    </tr>\n",
              "    <tr>\n",
              "      <th>1</th>\n",
              "      <td>430.000</td>\n",
              "      <td>Avenida das Palmeiras, 7 - Jardim Imperial, Cu...</td>\n",
              "      <td>88</td>\n",
              "      <td>3</td>\n",
              "      <td>2.0</td>\n",
              "      <td>1.0</td>\n",
              "      <td>2</td>\n",
              "      <td>NaN</td>\n",
              "      <td>NaN</td>\n",
              "    </tr>\n",
              "    <tr>\n",
              "      <th>2</th>\n",
              "      <td>370.000</td>\n",
              "      <td>Avenida das Palmeiras, 20 - Jardim Imperial, C...</td>\n",
              "      <td>89</td>\n",
              "      <td>3</td>\n",
              "      <td>2.0</td>\n",
              "      <td>1.0</td>\n",
              "      <td>2</td>\n",
              "      <td>NaN</td>\n",
              "      <td>NaN</td>\n",
              "    </tr>\n",
              "    <tr>\n",
              "      <th>3</th>\n",
              "      <td>420.000</td>\n",
              "      <td>Avenida das Palmeiras, 004 - Jardim Imperial, ...</td>\n",
              "      <td>132</td>\n",
              "      <td>3</td>\n",
              "      <td>2.0</td>\n",
              "      <td>1.0</td>\n",
              "      <td>\\n</td>\n",
              "      <td>NaN</td>\n",
              "      <td>NaN</td>\n",
              "    </tr>\n",
              "    <tr>\n",
              "      <th>4</th>\n",
              "      <td>365.000</td>\n",
              "      <td>Avenida das Palmeiras, 100 - Jardim Imperial, ...</td>\n",
              "      <td>90</td>\n",
              "      <td>3</td>\n",
              "      <td>2.0</td>\n",
              "      <td>1.0</td>\n",
              "      <td>2</td>\n",
              "      <td>NaN</td>\n",
              "      <td>NaN</td>\n",
              "    </tr>\n",
              "  </tbody>\n",
              "</table>\n",
              "</div>\n",
              "      <button class=\"colab-df-convert\" onclick=\"convertToInteractive('df-d781b6d8-c679-4410-825f-2964247cbd9a')\"\n",
              "              title=\"Convert this dataframe to an interactive table.\"\n",
              "              style=\"display:none;\">\n",
              "        \n",
              "  <svg xmlns=\"http://www.w3.org/2000/svg\" height=\"24px\"viewBox=\"0 0 24 24\"\n",
              "       width=\"24px\">\n",
              "    <path d=\"M0 0h24v24H0V0z\" fill=\"none\"/>\n",
              "    <path d=\"M18.56 5.44l.94 2.06.94-2.06 2.06-.94-2.06-.94-.94-2.06-.94 2.06-2.06.94zm-11 1L8.5 8.5l.94-2.06 2.06-.94-2.06-.94L8.5 2.5l-.94 2.06-2.06.94zm10 10l.94 2.06.94-2.06 2.06-.94-2.06-.94-.94-2.06-.94 2.06-2.06.94z\"/><path d=\"M17.41 7.96l-1.37-1.37c-.4-.4-.92-.59-1.43-.59-.52 0-1.04.2-1.43.59L10.3 9.45l-7.72 7.72c-.78.78-.78 2.05 0 2.83L4 21.41c.39.39.9.59 1.41.59.51 0 1.02-.2 1.41-.59l7.78-7.78 2.81-2.81c.8-.78.8-2.07 0-2.86zM5.41 20L4 18.59l7.72-7.72 1.47 1.35L5.41 20z\"/>\n",
              "  </svg>\n",
              "      </button>\n",
              "      \n",
              "  <style>\n",
              "    .colab-df-container {\n",
              "      display:flex;\n",
              "      flex-wrap:wrap;\n",
              "      gap: 12px;\n",
              "    }\n",
              "\n",
              "    .colab-df-convert {\n",
              "      background-color: #E8F0FE;\n",
              "      border: none;\n",
              "      border-radius: 50%;\n",
              "      cursor: pointer;\n",
              "      display: none;\n",
              "      fill: #1967D2;\n",
              "      height: 32px;\n",
              "      padding: 0 0 0 0;\n",
              "      width: 32px;\n",
              "    }\n",
              "\n",
              "    .colab-df-convert:hover {\n",
              "      background-color: #E2EBFA;\n",
              "      box-shadow: 0px 1px 2px rgba(60, 64, 67, 0.3), 0px 1px 3px 1px rgba(60, 64, 67, 0.15);\n",
              "      fill: #174EA6;\n",
              "    }\n",
              "\n",
              "    [theme=dark] .colab-df-convert {\n",
              "      background-color: #3B4455;\n",
              "      fill: #D2E3FC;\n",
              "    }\n",
              "\n",
              "    [theme=dark] .colab-df-convert:hover {\n",
              "      background-color: #434B5C;\n",
              "      box-shadow: 0px 1px 3px 1px rgba(0, 0, 0, 0.15);\n",
              "      filter: drop-shadow(0px 1px 2px rgba(0, 0, 0, 0.3));\n",
              "      fill: #FFFFFF;\n",
              "    }\n",
              "  </style>\n",
              "\n",
              "      <script>\n",
              "        const buttonEl =\n",
              "          document.querySelector('#df-d781b6d8-c679-4410-825f-2964247cbd9a button.colab-df-convert');\n",
              "        buttonEl.style.display =\n",
              "          google.colab.kernel.accessAllowed ? 'block' : 'none';\n",
              "\n",
              "        async function convertToInteractive(key) {\n",
              "          const element = document.querySelector('#df-d781b6d8-c679-4410-825f-2964247cbd9a');\n",
              "          const dataTable =\n",
              "            await google.colab.kernel.invokeFunction('convertToInteractive',\n",
              "                                                     [key], {});\n",
              "          if (!dataTable) return;\n",
              "\n",
              "          const docLinkHtml = 'Like what you see? Visit the ' +\n",
              "            '<a target=\"_blank\" href=https://colab.research.google.com/notebooks/data_table.ipynb>data table notebook</a>'\n",
              "            + ' to learn more about interactive tables.';\n",
              "          element.innerHTML = '';\n",
              "          dataTable['output_type'] = 'display_data';\n",
              "          await google.colab.output.renderOutput(dataTable, element);\n",
              "          const docLink = document.createElement('div');\n",
              "          docLink.innerHTML = docLinkHtml;\n",
              "          element.appendChild(docLink);\n",
              "        }\n",
              "      </script>\n",
              "    </div>\n",
              "  </div>\n",
              "  "
            ],
            "text/plain": [
              "       preco  ... condominio\n",
              "0  1.380.000  ...      550.0\n",
              "1    430.000  ...        NaN\n",
              "2    370.000  ...        NaN\n",
              "3    420.000  ...        NaN\n",
              "4    365.000  ...        NaN\n",
              "\n",
              "[5 rows x 9 columns]"
            ]
          },
          "metadata": {},
          "execution_count": 4
        }
      ]
    },
    {
      "cell_type": "code",
      "source": [
        "df.shape"
      ],
      "metadata": {
        "colab": {
          "base_uri": "https://localhost:8080/"
        },
        "id": "hDU01tHF_E_9",
        "outputId": "a657f663-5f0b-4105-912a-0f74544a4c74"
      },
      "execution_count": null,
      "outputs": [
        {
          "output_type": "execute_result",
          "data": {
            "text/plain": [
              "(106, 9)"
            ]
          },
          "metadata": {},
          "execution_count": 7
        }
      ]
    },
    {
      "cell_type": "code",
      "source": [
        "#Valores faltantes \n",
        "colunas = ['tamanhom2','quartos','banheiros','suite','garagem','iptu','condominio']\n",
        "print(\"Valores Null\")\n",
        "for name in colunas:\n",
        "  print(name)\n",
        "  print(df[name].isnull().value_counts())\n"
      ],
      "metadata": {
        "colab": {
          "base_uri": "https://localhost:8080/"
        },
        "id": "aEtRc1LgYyw7",
        "outputId": "271d99e6-0a08-4d51-c5f2-2fb56b60e1ee"
      },
      "execution_count": null,
      "outputs": [
        {
          "output_type": "stream",
          "name": "stdout",
          "text": [
            "Valores Null\n",
            "tamanhom2\n",
            "False    106\n",
            "Name: tamanhom2, dtype: int64\n",
            "quartos\n",
            "False    106\n",
            "Name: quartos, dtype: int64\n",
            "banheiros\n",
            "False    105\n",
            "True       1\n",
            "Name: banheiros, dtype: int64\n",
            "suite\n",
            "False    87\n",
            "True     19\n",
            "Name: suite, dtype: int64\n",
            "garagem\n",
            "False    106\n",
            "Name: garagem, dtype: int64\n",
            "iptu\n",
            "True     79\n",
            "False    27\n",
            "Name: iptu, dtype: int64\n",
            "condominio\n",
            "True     79\n",
            "False    27\n",
            "Name: condominio, dtype: int64\n"
          ]
        }
      ]
    },
    {
      "cell_type": "markdown",
      "source": [
        "Temos Valores Faltantes:\n",
        "* Banheiro: 1\n",
        "* Suite: 19\n",
        "* IPTU: 27\n",
        "* Condominio: 27"
      ],
      "metadata": {
        "id": "3yoFabWoq_bU"
      }
    },
    {
      "cell_type": "code",
      "source": [
        "#tipos dos dados\n",
        "df.dtypes"
      ],
      "metadata": {
        "colab": {
          "base_uri": "https://localhost:8080/"
        },
        "id": "oBLBNKk5_Dp7",
        "outputId": "61772859-68fc-4dcf-bdcb-7daf83d6dfd4"
      },
      "execution_count": null,
      "outputs": [
        {
          "output_type": "execute_result",
          "data": {
            "text/plain": [
              "preco          object\n",
              "endereco       object\n",
              "tamanhom2       int64\n",
              "quartos        object\n",
              "banheiros     float64\n",
              "suite         float64\n",
              "garagem        object\n",
              "iptu          float64\n",
              "condominio    float64\n",
              "dtype: object"
            ]
          },
          "metadata": {},
          "execution_count": 12
        }
      ]
    },
    {
      "cell_type": "code",
      "source": [
        "def pre_processamento(df):\n",
        "  dff = df.copy()\n",
        "  dff = dff.drop(columns=['iptu','condominio','preco','endereco'], axis=0)\n",
        "  dff['quartos'] = dff.quartos.replace('2 a 3\\n', np.NaN)\n",
        "  dff['quartos'] = dff.quartos.replace('1 até 2\\n', np.NaN)\n",
        "  dff['quartos'] = dff.quartos.replace('\\n                ', np.NaN)\n",
        "  dff['garagem'] = dff.garagem.replace('\\n                ', np.NaN)\n",
        "  dff['garagem'] = dff.garagem.replace('1 até 2\\n', np.NaN)\n",
        "  dff['quartos'].fillna(dff['quartos'].median(), inplace = True)\n",
        "  dff['suite'].fillna(dff['suite'].median(), inplace = True)\n",
        "  dff['garagem'].fillna(dff['garagem'].median(), inplace = True)\n",
        "  dff['banheiros'].fillna(dff['banheiros'].median(), inplace = True)\n",
        "  dff['quartos'] = dff.quartos.astype('int')\n",
        "  dff['banheiros'] = dff.banheiros.astype('int')\n",
        "  dff['suite'] = dff.suite.astype('int')\n",
        "  dff['garagem'] = dff.garagem.astype('int')\n",
        "  \n",
        "\n",
        "  return dff"
      ],
      "metadata": {
        "id": "bNgtn7Pp_XDb"
      },
      "execution_count": null,
      "outputs": []
    },
    {
      "cell_type": "code",
      "source": [
        "x = pre_processamento(df)\n",
        "y = df.iloc[:,0].str.replace('.','').astype('float')"
      ],
      "metadata": {
        "id": "_TkV5JjSQV-f"
      },
      "execution_count": null,
      "outputs": []
    },
    {
      "cell_type": "code",
      "source": [
        "from sklearn.linear_model import LinearRegression\n",
        "from sklearn.neighbors import KNeighborsRegressor\n",
        "from sklearn.tree import DecisionTreeRegressor\n",
        "from sklearn.model_selection import cross_val_score\n",
        "from sklearn.metrics import mean_squared_error, r2_score"
      ],
      "metadata": {
        "id": "LrypcBvdfLWB"
      },
      "execution_count": null,
      "outputs": []
    },
    {
      "cell_type": "code",
      "source": [
        "#GRID SEARCH\n",
        "from sklearn.model_selection import GridSearchCV\n",
        "class gridSearchAll():\n",
        "    \n",
        "    def __init__(self, scoring, num_folds):\n",
        "        self.grid_models = []\n",
        "        self.scoring = scoring\n",
        "        self.num_folds = num_folds\n",
        "        self.best = []\n",
        "    \n",
        "    def insert_model(self, estimator_base, param_grid):\n",
        "        self.grid_models.append([estimator_base, param_grid])\n",
        "    def fit_all(self, X, y):\n",
        "      for est, param in self.grid_models:\n",
        "        grid = GridSearchCV(estimator = est, \n",
        "                    param_grid = param, \n",
        "                    scoring = self.scoring, \n",
        "                    cv = self.num_folds)\n",
        "        grid.fit(X, y)\n",
        "        self.best.append(grid)\n",
        "\n",
        "    def best_all_grid_models(self):\n",
        "      best_models = []\n",
        "      for grid in self.best:\n",
        "        best_models.append(grid.best_estimator_)\n",
        "      print(\"Melhores Modelos:\")\n",
        "      print(best_models)"
      ],
      "metadata": {
        "id": "WjQb_B9SfngT"
      },
      "execution_count": null,
      "outputs": []
    },
    {
      "cell_type": "code",
      "source": [
        "mygrid = gridSearchAll(scoring='r2',num_folds=5)"
      ],
      "metadata": {
        "id": "mU2YzkPIvJ6H"
      },
      "execution_count": null,
      "outputs": []
    },
    {
      "cell_type": "code",
      "source": [
        "#Estimadores\n",
        "knn = KNeighborsRegressor()\n",
        "dtr =  DecisionTreeRegressor()\n",
        "#Params\n",
        "params_knn = {\"n_neighbors\":[1,2,3,4,5,6]}\n",
        "params_dtr = {\"max_depth\":[1,2,5,6]}"
      ],
      "metadata": {
        "id": "hiT5mRDxwXYO"
      },
      "execution_count": null,
      "outputs": []
    },
    {
      "cell_type": "code",
      "source": [
        "mygrid.insert_model(knn, params_knn)\n",
        "mygrid.insert_model(dtr, params_dtr)"
      ],
      "metadata": {
        "id": "HAXaymgiwHLW"
      },
      "execution_count": null,
      "outputs": []
    },
    {
      "cell_type": "code",
      "source": [
        "mygrid.grid_models"
      ],
      "metadata": {
        "colab": {
          "base_uri": "https://localhost:8080/"
        },
        "id": "dxaRCPM9xt6Q",
        "outputId": "3fc79e38-1d08-44fd-fbb1-549a1f2e51d9"
      },
      "execution_count": null,
      "outputs": [
        {
          "output_type": "execute_result",
          "data": {
            "text/plain": [
              "[[KNeighborsRegressor(), {'n_neighbors': [1, 2, 3, 4, 5, 6]}],\n",
              " [DecisionTreeRegressor(), {'max_depth': [1, 2, 5, 6]}]]"
            ]
          },
          "metadata": {},
          "execution_count": 42
        }
      ]
    },
    {
      "cell_type": "code",
      "source": [
        "mygrid.fit_all(x, y)"
      ],
      "metadata": {
        "id": "cUEIIoucx3GS"
      },
      "execution_count": null,
      "outputs": []
    },
    {
      "cell_type": "code",
      "source": [
        "mygrid.best_all_grid_models()"
      ],
      "metadata": {
        "colab": {
          "base_uri": "https://localhost:8080/"
        },
        "id": "xobg9ITG0j2V",
        "outputId": "7fbbaeb8-35ef-4c98-c427-3d53a7bf95ee"
      },
      "execution_count": null,
      "outputs": [
        {
          "output_type": "stream",
          "name": "stdout",
          "text": [
            "Melhores Modelos:\n",
            "[KNeighborsRegressor(n_neighbors=1), DecisionTreeRegressor(max_depth=6)]\n"
          ]
        }
      ]
    },
    {
      "cell_type": "code",
      "source": [
        "#Escolhendo a algoritimo DecisionTreeRegressor\n",
        "modelo_DTR = DecisionTreeRegressor(max_depth=6)"
      ],
      "metadata": {
        "id": "dv7BfOzn7arN"
      },
      "execution_count": null,
      "outputs": []
    },
    {
      "cell_type": "code",
      "source": [
        "modelo_DTR.fit(x, y)"
      ],
      "metadata": {
        "colab": {
          "base_uri": "https://localhost:8080/"
        },
        "id": "g536og9CzX4c",
        "outputId": "cad1748c-a0f5-4eda-a125-e7033cdc527e"
      },
      "execution_count": null,
      "outputs": [
        {
          "output_type": "execute_result",
          "data": {
            "text/plain": [
              "DecisionTreeRegressor(max_depth=6)"
            ]
          },
          "metadata": {},
          "execution_count": 47
        }
      ]
    },
    {
      "cell_type": "code",
      "source": [
        "ypred = modelo_DTR.predict(x)"
      ],
      "metadata": {
        "id": "8WEg-goIzmD9"
      },
      "execution_count": null,
      "outputs": []
    },
    {
      "cell_type": "code",
      "source": [
        "r2_score(y_true=y, y_pred = ypred)"
      ],
      "metadata": {
        "colab": {
          "base_uri": "https://localhost:8080/"
        },
        "id": "Gr_loM6Y0Jr_",
        "outputId": "4145fbbb-d9a5-46a3-d2bf-2a13cd6140a1"
      },
      "execution_count": null,
      "outputs": [
        {
          "output_type": "execute_result",
          "data": {
            "text/plain": [
              "0.9945054220472815"
            ]
          },
          "metadata": {},
          "execution_count": 51
        }
      ]
    }
  ]
}